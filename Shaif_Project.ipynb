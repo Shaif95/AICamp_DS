{
  "nbformat": 4,
  "nbformat_minor": 0,
  "metadata": {
    "colab": {
      "provenance": [],
      "authorship_tag": "ABX9TyP3oCAWSkepBmOqznxL090w",
      "include_colab_link": true
    },
    "kernelspec": {
      "name": "python3",
      "display_name": "Python 3"
    },
    "language_info": {
      "name": "python"
    }
  },
  "cells": [
    {
      "cell_type": "markdown",
      "metadata": {
        "id": "view-in-github",
        "colab_type": "text"
      },
      "source": [
        "<a href=\"https://colab.research.google.com/github/Shaif95/AICamp_DS/blob/main/Shaif_Project.ipynb\" target=\"_parent\"><img src=\"https://colab.research.google.com/assets/colab-badge.svg\" alt=\"Open In Colab\"/></a>"
      ]
    },
    {
      "cell_type": "code",
      "source": [
        "!pip install requests"
      ],
      "metadata": {
        "id": "K86Zo_FdGML1",
        "colab": {
          "base_uri": "https://localhost:8080/"
        },
        "outputId": "1ee4a851-8df6-4c4b-b979-f78b475eeeb1"
      },
      "execution_count": 1,
      "outputs": [
        {
          "output_type": "stream",
          "name": "stdout",
          "text": [
            "Requirement already satisfied: requests in /usr/local/lib/python3.10/dist-packages (2.27.1)\n",
            "Requirement already satisfied: urllib3<1.27,>=1.21.1 in /usr/local/lib/python3.10/dist-packages (from requests) (1.26.16)\n",
            "Requirement already satisfied: certifi>=2017.4.17 in /usr/local/lib/python3.10/dist-packages (from requests) (2023.5.7)\n",
            "Requirement already satisfied: charset-normalizer~=2.0.0 in /usr/local/lib/python3.10/dist-packages (from requests) (2.0.12)\n",
            "Requirement already satisfied: idna<4,>=2.5 in /usr/local/lib/python3.10/dist-packages (from requests) (3.4)\n"
          ]
        }
      ]
    },
    {
      "cell_type": "code",
      "source": [
        "import requests\n",
        "\n",
        "# Define the GitHub repository URL\n",
        "repo_url = 'https://api.github.com/repos/yumoxu/stocknet-dataset/contents/price/raw'\n",
        "\n",
        "# Send a GET request to the repository URL\n",
        "response = requests.get(repo_url)\n",
        "\n",
        "# Check if the request was successful (status code 200)\n",
        "if response.status_code == 200:\n",
        "    # Extract the JSON response\n",
        "    files_data = response.json()\n",
        "\n",
        "    # Extract the file names from the response\n",
        "    file_names = [file['name'] for file in files_data]\n",
        "\n",
        "    # Print the list of file names\n",
        "    print(file_names)\n",
        "else:\n",
        "    print('Failed to retrieve repository information:', response.status_code)\n"
      ],
      "metadata": {
        "id": "5Ip-j86RGMIf",
        "colab": {
          "base_uri": "https://localhost:8080/"
        },
        "outputId": "46fbe976-aad6-4d21-a666-0749654ea75a"
      },
      "execution_count": 2,
      "outputs": [
        {
          "output_type": "stream",
          "name": "stdout",
          "text": [
            "['AAPL.csv', 'ABB.csv', 'ABBV.csv', 'AEP.csv', 'AGFS.csv', 'AMGN.csv', 'AMZN.csv', 'BA.csv', 'BABA.csv', 'BAC.csv', 'BBL.csv', 'BCH.csv', 'BHP.csv', 'BP.csv', 'BRK-A.csv', 'BSAC.csv', 'BUD.csv', 'C.csv', 'CAT.csv', 'CELG.csv', 'CHL.csv', 'CHTR.csv', 'CMCSA.csv', 'CODI.csv', 'CSCO.csv', 'CVX.csv', 'D.csv', 'DHR.csv', 'DIS.csv', 'DUK.csv', 'EXC.csv', 'FB.csv', 'GD.csv', 'GE.csv', 'GMRE.csv', 'GOOG.csv', 'HD.csv', 'HON.csv', 'HRG.csv', 'HSBC.csv', 'IEP.csv', 'INTC.csv', 'JNJ.csv', 'JPM.csv', 'KO.csv', 'LMT.csv', 'MA.csv', 'MCD.csv', 'MDT.csv', 'MMM.csv', 'MO.csv', 'MRK.csv', 'MSFT.csv', 'NEE.csv', 'NGG.csv', 'NVS.csv', 'ORCL.csv', 'PCG.csv', 'PCLN.csv', 'PEP.csv', 'PFE.csv', 'PG.csv', 'PICO.csv', 'PM.csv', 'PPL.csv', 'PTR.csv', 'RDS-B.csv', 'REX.csv', 'SLB.csv', 'SNP.csv', 'SNY.csv', 'SO.csv', 'SPLP.csv', 'SRE.csv', 'T.csv', 'TM.csv', 'TOT.csv', 'TSM.csv', 'UL.csv', 'UN.csv', 'UNH.csv', 'UPS.csv', 'UTX.csv', 'V.csv', 'VZ.csv', 'WFC.csv', 'WMT.csv', 'XOM.csv']\n"
          ]
        }
      ]
    },
    {
      "cell_type": "code",
      "source": [
        "# Add the URL prefix to each string in lst\n",
        "prefixed_lst = ['https://raw.githubusercontent.com/yumoxu/stocknet-dataset/master/price/raw/' + item for item in file_names]\n",
        "\n",
        "# Print the updated list\n",
        "print(prefixed_lst)"
      ],
      "metadata": {
        "colab": {
          "base_uri": "https://localhost:8080/"
        },
        "id": "dWuLBdD8L4S4",
        "outputId": "d53cdd9c-7b20-44a7-eed5-a6d65f8bcb0b"
      },
      "execution_count": 3,
      "outputs": [
        {
          "output_type": "stream",
          "name": "stdout",
          "text": [
            "['https://raw.githubusercontent.com/yumoxu/stocknet-dataset/master/price/raw/AAPL.csv', 'https://raw.githubusercontent.com/yumoxu/stocknet-dataset/master/price/raw/ABB.csv', 'https://raw.githubusercontent.com/yumoxu/stocknet-dataset/master/price/raw/ABBV.csv', 'https://raw.githubusercontent.com/yumoxu/stocknet-dataset/master/price/raw/AEP.csv', 'https://raw.githubusercontent.com/yumoxu/stocknet-dataset/master/price/raw/AGFS.csv', 'https://raw.githubusercontent.com/yumoxu/stocknet-dataset/master/price/raw/AMGN.csv', 'https://raw.githubusercontent.com/yumoxu/stocknet-dataset/master/price/raw/AMZN.csv', 'https://raw.githubusercontent.com/yumoxu/stocknet-dataset/master/price/raw/BA.csv', 'https://raw.githubusercontent.com/yumoxu/stocknet-dataset/master/price/raw/BABA.csv', 'https://raw.githubusercontent.com/yumoxu/stocknet-dataset/master/price/raw/BAC.csv', 'https://raw.githubusercontent.com/yumoxu/stocknet-dataset/master/price/raw/BBL.csv', 'https://raw.githubusercontent.com/yumoxu/stocknet-dataset/master/price/raw/BCH.csv', 'https://raw.githubusercontent.com/yumoxu/stocknet-dataset/master/price/raw/BHP.csv', 'https://raw.githubusercontent.com/yumoxu/stocknet-dataset/master/price/raw/BP.csv', 'https://raw.githubusercontent.com/yumoxu/stocknet-dataset/master/price/raw/BRK-A.csv', 'https://raw.githubusercontent.com/yumoxu/stocknet-dataset/master/price/raw/BSAC.csv', 'https://raw.githubusercontent.com/yumoxu/stocknet-dataset/master/price/raw/BUD.csv', 'https://raw.githubusercontent.com/yumoxu/stocknet-dataset/master/price/raw/C.csv', 'https://raw.githubusercontent.com/yumoxu/stocknet-dataset/master/price/raw/CAT.csv', 'https://raw.githubusercontent.com/yumoxu/stocknet-dataset/master/price/raw/CELG.csv', 'https://raw.githubusercontent.com/yumoxu/stocknet-dataset/master/price/raw/CHL.csv', 'https://raw.githubusercontent.com/yumoxu/stocknet-dataset/master/price/raw/CHTR.csv', 'https://raw.githubusercontent.com/yumoxu/stocknet-dataset/master/price/raw/CMCSA.csv', 'https://raw.githubusercontent.com/yumoxu/stocknet-dataset/master/price/raw/CODI.csv', 'https://raw.githubusercontent.com/yumoxu/stocknet-dataset/master/price/raw/CSCO.csv', 'https://raw.githubusercontent.com/yumoxu/stocknet-dataset/master/price/raw/CVX.csv', 'https://raw.githubusercontent.com/yumoxu/stocknet-dataset/master/price/raw/D.csv', 'https://raw.githubusercontent.com/yumoxu/stocknet-dataset/master/price/raw/DHR.csv', 'https://raw.githubusercontent.com/yumoxu/stocknet-dataset/master/price/raw/DIS.csv', 'https://raw.githubusercontent.com/yumoxu/stocknet-dataset/master/price/raw/DUK.csv', 'https://raw.githubusercontent.com/yumoxu/stocknet-dataset/master/price/raw/EXC.csv', 'https://raw.githubusercontent.com/yumoxu/stocknet-dataset/master/price/raw/FB.csv', 'https://raw.githubusercontent.com/yumoxu/stocknet-dataset/master/price/raw/GD.csv', 'https://raw.githubusercontent.com/yumoxu/stocknet-dataset/master/price/raw/GE.csv', 'https://raw.githubusercontent.com/yumoxu/stocknet-dataset/master/price/raw/GMRE.csv', 'https://raw.githubusercontent.com/yumoxu/stocknet-dataset/master/price/raw/GOOG.csv', 'https://raw.githubusercontent.com/yumoxu/stocknet-dataset/master/price/raw/HD.csv', 'https://raw.githubusercontent.com/yumoxu/stocknet-dataset/master/price/raw/HON.csv', 'https://raw.githubusercontent.com/yumoxu/stocknet-dataset/master/price/raw/HRG.csv', 'https://raw.githubusercontent.com/yumoxu/stocknet-dataset/master/price/raw/HSBC.csv', 'https://raw.githubusercontent.com/yumoxu/stocknet-dataset/master/price/raw/IEP.csv', 'https://raw.githubusercontent.com/yumoxu/stocknet-dataset/master/price/raw/INTC.csv', 'https://raw.githubusercontent.com/yumoxu/stocknet-dataset/master/price/raw/JNJ.csv', 'https://raw.githubusercontent.com/yumoxu/stocknet-dataset/master/price/raw/JPM.csv', 'https://raw.githubusercontent.com/yumoxu/stocknet-dataset/master/price/raw/KO.csv', 'https://raw.githubusercontent.com/yumoxu/stocknet-dataset/master/price/raw/LMT.csv', 'https://raw.githubusercontent.com/yumoxu/stocknet-dataset/master/price/raw/MA.csv', 'https://raw.githubusercontent.com/yumoxu/stocknet-dataset/master/price/raw/MCD.csv', 'https://raw.githubusercontent.com/yumoxu/stocknet-dataset/master/price/raw/MDT.csv', 'https://raw.githubusercontent.com/yumoxu/stocknet-dataset/master/price/raw/MMM.csv', 'https://raw.githubusercontent.com/yumoxu/stocknet-dataset/master/price/raw/MO.csv', 'https://raw.githubusercontent.com/yumoxu/stocknet-dataset/master/price/raw/MRK.csv', 'https://raw.githubusercontent.com/yumoxu/stocknet-dataset/master/price/raw/MSFT.csv', 'https://raw.githubusercontent.com/yumoxu/stocknet-dataset/master/price/raw/NEE.csv', 'https://raw.githubusercontent.com/yumoxu/stocknet-dataset/master/price/raw/NGG.csv', 'https://raw.githubusercontent.com/yumoxu/stocknet-dataset/master/price/raw/NVS.csv', 'https://raw.githubusercontent.com/yumoxu/stocknet-dataset/master/price/raw/ORCL.csv', 'https://raw.githubusercontent.com/yumoxu/stocknet-dataset/master/price/raw/PCG.csv', 'https://raw.githubusercontent.com/yumoxu/stocknet-dataset/master/price/raw/PCLN.csv', 'https://raw.githubusercontent.com/yumoxu/stocknet-dataset/master/price/raw/PEP.csv', 'https://raw.githubusercontent.com/yumoxu/stocknet-dataset/master/price/raw/PFE.csv', 'https://raw.githubusercontent.com/yumoxu/stocknet-dataset/master/price/raw/PG.csv', 'https://raw.githubusercontent.com/yumoxu/stocknet-dataset/master/price/raw/PICO.csv', 'https://raw.githubusercontent.com/yumoxu/stocknet-dataset/master/price/raw/PM.csv', 'https://raw.githubusercontent.com/yumoxu/stocknet-dataset/master/price/raw/PPL.csv', 'https://raw.githubusercontent.com/yumoxu/stocknet-dataset/master/price/raw/PTR.csv', 'https://raw.githubusercontent.com/yumoxu/stocknet-dataset/master/price/raw/RDS-B.csv', 'https://raw.githubusercontent.com/yumoxu/stocknet-dataset/master/price/raw/REX.csv', 'https://raw.githubusercontent.com/yumoxu/stocknet-dataset/master/price/raw/SLB.csv', 'https://raw.githubusercontent.com/yumoxu/stocknet-dataset/master/price/raw/SNP.csv', 'https://raw.githubusercontent.com/yumoxu/stocknet-dataset/master/price/raw/SNY.csv', 'https://raw.githubusercontent.com/yumoxu/stocknet-dataset/master/price/raw/SO.csv', 'https://raw.githubusercontent.com/yumoxu/stocknet-dataset/master/price/raw/SPLP.csv', 'https://raw.githubusercontent.com/yumoxu/stocknet-dataset/master/price/raw/SRE.csv', 'https://raw.githubusercontent.com/yumoxu/stocknet-dataset/master/price/raw/T.csv', 'https://raw.githubusercontent.com/yumoxu/stocknet-dataset/master/price/raw/TM.csv', 'https://raw.githubusercontent.com/yumoxu/stocknet-dataset/master/price/raw/TOT.csv', 'https://raw.githubusercontent.com/yumoxu/stocknet-dataset/master/price/raw/TSM.csv', 'https://raw.githubusercontent.com/yumoxu/stocknet-dataset/master/price/raw/UL.csv', 'https://raw.githubusercontent.com/yumoxu/stocknet-dataset/master/price/raw/UN.csv', 'https://raw.githubusercontent.com/yumoxu/stocknet-dataset/master/price/raw/UNH.csv', 'https://raw.githubusercontent.com/yumoxu/stocknet-dataset/master/price/raw/UPS.csv', 'https://raw.githubusercontent.com/yumoxu/stocknet-dataset/master/price/raw/UTX.csv', 'https://raw.githubusercontent.com/yumoxu/stocknet-dataset/master/price/raw/V.csv', 'https://raw.githubusercontent.com/yumoxu/stocknet-dataset/master/price/raw/VZ.csv', 'https://raw.githubusercontent.com/yumoxu/stocknet-dataset/master/price/raw/WFC.csv', 'https://raw.githubusercontent.com/yumoxu/stocknet-dataset/master/price/raw/WMT.csv', 'https://raw.githubusercontent.com/yumoxu/stocknet-dataset/master/price/raw/XOM.csv']\n"
          ]
        }
      ]
    },
    {
      "cell_type": "code",
      "source": [
        "import pandas as pd\n",
        "import os\n",
        "\n",
        "# Read and combine all CSV files into a single dataframe\n",
        "dfs = []\n",
        "\n",
        "for csv_url, stock_name in zip(prefixed_lst, file_names):\n",
        "    df = pd.read_csv(csv_url)\n",
        "    df['stock name'] = os.path.splitext(stock_name)[0]  # Extract stock name without extension\n",
        "    dfs.append(df)\n",
        "\n",
        "# Concatenate all dataframes into a single dataframe\n",
        "combined_df = pd.concat(dfs, ignore_index=True)\n",
        "\n",
        "\n",
        "# Convert 'stock name' column to dummy numbers\n",
        "combined_df['stock number'], stock_categories = pd.factorize(combined_df['stock name'])\n",
        "\n",
        "# Create dictionary for stock name to category mapping\n",
        "stock_category_mapping = dict(enumerate(stock_categories))\n",
        "\n",
        "# Print the dictionary\n",
        "print(stock_category_mapping)\n",
        "combined_df.drop([\"stock name\"] ,axis = 1, inplace=True)\n",
        "# Print the combined dataframe with the new 'stock number' column\n",
        "print(combined_df)\n"
      ],
      "metadata": {
        "id": "u6K6Oj7YGLse",
        "colab": {
          "base_uri": "https://localhost:8080/"
        },
        "outputId": "92652095-5f35-4fbd-8835-d923156f963f"
      },
      "execution_count": 4,
      "outputs": [
        {
          "output_type": "stream",
          "name": "stdout",
          "text": [
            "{0: 'AAPL', 1: 'ABB', 2: 'ABBV', 3: 'AEP', 4: 'AGFS', 5: 'AMGN', 6: 'AMZN', 7: 'BA', 8: 'BABA', 9: 'BAC', 10: 'BBL', 11: 'BCH', 12: 'BHP', 13: 'BP', 14: 'BRK-A', 15: 'BSAC', 16: 'BUD', 17: 'C', 18: 'CAT', 19: 'CELG', 20: 'CHL', 21: 'CHTR', 22: 'CMCSA', 23: 'CODI', 24: 'CSCO', 25: 'CVX', 26: 'D', 27: 'DHR', 28: 'DIS', 29: 'DUK', 30: 'EXC', 31: 'FB', 32: 'GD', 33: 'GE', 34: 'GMRE', 35: 'GOOG', 36: 'HD', 37: 'HON', 38: 'HRG', 39: 'HSBC', 40: 'IEP', 41: 'INTC', 42: 'JNJ', 43: 'JPM', 44: 'KO', 45: 'LMT', 46: 'MA', 47: 'MCD', 48: 'MDT', 49: 'MMM', 50: 'MO', 51: 'MRK', 52: 'MSFT', 53: 'NEE', 54: 'NGG', 55: 'NVS', 56: 'ORCL', 57: 'PCG', 58: 'PCLN', 59: 'PEP', 60: 'PFE', 61: 'PG', 62: 'PICO', 63: 'PM', 64: 'PPL', 65: 'PTR', 66: 'RDS-B', 67: 'REX', 68: 'SLB', 69: 'SNP', 70: 'SNY', 71: 'SO', 72: 'SPLP', 73: 'SRE', 74: 'T', 75: 'TM', 76: 'TOT', 77: 'TSM', 78: 'UL', 79: 'UN', 80: 'UNH', 81: 'UPS', 82: 'UTX', 83: 'V', 84: 'VZ', 85: 'WFC', 86: 'WMT', 87: 'XOM'}\n",
            "              Date       Open       High        Low      Close  Adj Close  \\\n",
            "0       2012-09-04  95.108574  96.448570  94.928574  96.424286  87.121140   \n",
            "1       2012-09-05  96.510002  96.621429  95.657143  95.747147  86.509338   \n",
            "2       2012-09-06  96.167145  96.898575  95.828575  96.610001  87.288956   \n",
            "3       2012-09-07  96.864288  97.497147  96.538574  97.205711  87.827171   \n",
            "4       2012-09-10  97.207146  97.612854  94.585716  94.677139  85.542564   \n",
            "...            ...        ...        ...        ...        ...        ...   \n",
            "108587  2017-08-28  76.900002  76.940002  76.260002  76.470001  76.470001   \n",
            "108588  2017-08-29  76.209999  76.489998  76.080002  76.449997  76.449997   \n",
            "108589  2017-08-30  76.239998  76.449997  76.059998  76.099998  76.099998   \n",
            "108590  2017-08-31  76.269997  76.489998  76.050003  76.330002  76.330002   \n",
            "108591  2017-09-01  76.370003  76.849998  76.320000  76.570000  76.570000   \n",
            "\n",
            "             Volume  stock number  \n",
            "0        91973000.0             0  \n",
            "1        84093800.0             0  \n",
            "2        97799100.0             0  \n",
            "3        82416600.0             0  \n",
            "4       121999500.0             0  \n",
            "...             ...           ...  \n",
            "108587    8229700.0            87  \n",
            "108588    7060400.0            87  \n",
            "108589    8218000.0            87  \n",
            "108590   15641700.0            87  \n",
            "108591    7340800.0            87  \n",
            "\n",
            "[108592 rows x 8 columns]\n"
          ]
        }
      ]
    },
    {
      "cell_type": "code",
      "source": [
        "combined_df.shape"
      ],
      "metadata": {
        "colab": {
          "base_uri": "https://localhost:8080/"
        },
        "id": "Ulv6NOVPJJdI",
        "outputId": "8b164f2e-c456-484c-d0d2-a96a0548f758"
      },
      "execution_count": 5,
      "outputs": [
        {
          "output_type": "execute_result",
          "data": {
            "text/plain": [
              "(108592, 8)"
            ]
          },
          "metadata": {},
          "execution_count": 5
        }
      ]
    },
    {
      "cell_type": "code",
      "source": [
        "combined_df"
      ],
      "metadata": {
        "id": "XGpzIC8UGLo8",
        "colab": {
          "base_uri": "https://localhost:8080/",
          "height": 424
        },
        "outputId": "6f0922d4-4226-4387-85e4-407c587db18b"
      },
      "execution_count": 6,
      "outputs": [
        {
          "output_type": "execute_result",
          "data": {
            "text/plain": [
              "              Date       Open       High        Low      Close  Adj Close  \\\n",
              "0       2012-09-04  95.108574  96.448570  94.928574  96.424286  87.121140   \n",
              "1       2012-09-05  96.510002  96.621429  95.657143  95.747147  86.509338   \n",
              "2       2012-09-06  96.167145  96.898575  95.828575  96.610001  87.288956   \n",
              "3       2012-09-07  96.864288  97.497147  96.538574  97.205711  87.827171   \n",
              "4       2012-09-10  97.207146  97.612854  94.585716  94.677139  85.542564   \n",
              "...            ...        ...        ...        ...        ...        ...   \n",
              "108587  2017-08-28  76.900002  76.940002  76.260002  76.470001  76.470001   \n",
              "108588  2017-08-29  76.209999  76.489998  76.080002  76.449997  76.449997   \n",
              "108589  2017-08-30  76.239998  76.449997  76.059998  76.099998  76.099998   \n",
              "108590  2017-08-31  76.269997  76.489998  76.050003  76.330002  76.330002   \n",
              "108591  2017-09-01  76.370003  76.849998  76.320000  76.570000  76.570000   \n",
              "\n",
              "             Volume  stock number  \n",
              "0        91973000.0             0  \n",
              "1        84093800.0             0  \n",
              "2        97799100.0             0  \n",
              "3        82416600.0             0  \n",
              "4       121999500.0             0  \n",
              "...             ...           ...  \n",
              "108587    8229700.0            87  \n",
              "108588    7060400.0            87  \n",
              "108589    8218000.0            87  \n",
              "108590   15641700.0            87  \n",
              "108591    7340800.0            87  \n",
              "\n",
              "[108592 rows x 8 columns]"
            ],
            "text/html": [
              "\n",
              "  <div id=\"df-895c6d49-1ed9-4b9f-ba04-5f6684a09cda\">\n",
              "    <div class=\"colab-df-container\">\n",
              "      <div>\n",
              "<style scoped>\n",
              "    .dataframe tbody tr th:only-of-type {\n",
              "        vertical-align: middle;\n",
              "    }\n",
              "\n",
              "    .dataframe tbody tr th {\n",
              "        vertical-align: top;\n",
              "    }\n",
              "\n",
              "    .dataframe thead th {\n",
              "        text-align: right;\n",
              "    }\n",
              "</style>\n",
              "<table border=\"1\" class=\"dataframe\">\n",
              "  <thead>\n",
              "    <tr style=\"text-align: right;\">\n",
              "      <th></th>\n",
              "      <th>Date</th>\n",
              "      <th>Open</th>\n",
              "      <th>High</th>\n",
              "      <th>Low</th>\n",
              "      <th>Close</th>\n",
              "      <th>Adj Close</th>\n",
              "      <th>Volume</th>\n",
              "      <th>stock number</th>\n",
              "    </tr>\n",
              "  </thead>\n",
              "  <tbody>\n",
              "    <tr>\n",
              "      <th>0</th>\n",
              "      <td>2012-09-04</td>\n",
              "      <td>95.108574</td>\n",
              "      <td>96.448570</td>\n",
              "      <td>94.928574</td>\n",
              "      <td>96.424286</td>\n",
              "      <td>87.121140</td>\n",
              "      <td>91973000.0</td>\n",
              "      <td>0</td>\n",
              "    </tr>\n",
              "    <tr>\n",
              "      <th>1</th>\n",
              "      <td>2012-09-05</td>\n",
              "      <td>96.510002</td>\n",
              "      <td>96.621429</td>\n",
              "      <td>95.657143</td>\n",
              "      <td>95.747147</td>\n",
              "      <td>86.509338</td>\n",
              "      <td>84093800.0</td>\n",
              "      <td>0</td>\n",
              "    </tr>\n",
              "    <tr>\n",
              "      <th>2</th>\n",
              "      <td>2012-09-06</td>\n",
              "      <td>96.167145</td>\n",
              "      <td>96.898575</td>\n",
              "      <td>95.828575</td>\n",
              "      <td>96.610001</td>\n",
              "      <td>87.288956</td>\n",
              "      <td>97799100.0</td>\n",
              "      <td>0</td>\n",
              "    </tr>\n",
              "    <tr>\n",
              "      <th>3</th>\n",
              "      <td>2012-09-07</td>\n",
              "      <td>96.864288</td>\n",
              "      <td>97.497147</td>\n",
              "      <td>96.538574</td>\n",
              "      <td>97.205711</td>\n",
              "      <td>87.827171</td>\n",
              "      <td>82416600.0</td>\n",
              "      <td>0</td>\n",
              "    </tr>\n",
              "    <tr>\n",
              "      <th>4</th>\n",
              "      <td>2012-09-10</td>\n",
              "      <td>97.207146</td>\n",
              "      <td>97.612854</td>\n",
              "      <td>94.585716</td>\n",
              "      <td>94.677139</td>\n",
              "      <td>85.542564</td>\n",
              "      <td>121999500.0</td>\n",
              "      <td>0</td>\n",
              "    </tr>\n",
              "    <tr>\n",
              "      <th>...</th>\n",
              "      <td>...</td>\n",
              "      <td>...</td>\n",
              "      <td>...</td>\n",
              "      <td>...</td>\n",
              "      <td>...</td>\n",
              "      <td>...</td>\n",
              "      <td>...</td>\n",
              "      <td>...</td>\n",
              "    </tr>\n",
              "    <tr>\n",
              "      <th>108587</th>\n",
              "      <td>2017-08-28</td>\n",
              "      <td>76.900002</td>\n",
              "      <td>76.940002</td>\n",
              "      <td>76.260002</td>\n",
              "      <td>76.470001</td>\n",
              "      <td>76.470001</td>\n",
              "      <td>8229700.0</td>\n",
              "      <td>87</td>\n",
              "    </tr>\n",
              "    <tr>\n",
              "      <th>108588</th>\n",
              "      <td>2017-08-29</td>\n",
              "      <td>76.209999</td>\n",
              "      <td>76.489998</td>\n",
              "      <td>76.080002</td>\n",
              "      <td>76.449997</td>\n",
              "      <td>76.449997</td>\n",
              "      <td>7060400.0</td>\n",
              "      <td>87</td>\n",
              "    </tr>\n",
              "    <tr>\n",
              "      <th>108589</th>\n",
              "      <td>2017-08-30</td>\n",
              "      <td>76.239998</td>\n",
              "      <td>76.449997</td>\n",
              "      <td>76.059998</td>\n",
              "      <td>76.099998</td>\n",
              "      <td>76.099998</td>\n",
              "      <td>8218000.0</td>\n",
              "      <td>87</td>\n",
              "    </tr>\n",
              "    <tr>\n",
              "      <th>108590</th>\n",
              "      <td>2017-08-31</td>\n",
              "      <td>76.269997</td>\n",
              "      <td>76.489998</td>\n",
              "      <td>76.050003</td>\n",
              "      <td>76.330002</td>\n",
              "      <td>76.330002</td>\n",
              "      <td>15641700.0</td>\n",
              "      <td>87</td>\n",
              "    </tr>\n",
              "    <tr>\n",
              "      <th>108591</th>\n",
              "      <td>2017-09-01</td>\n",
              "      <td>76.370003</td>\n",
              "      <td>76.849998</td>\n",
              "      <td>76.320000</td>\n",
              "      <td>76.570000</td>\n",
              "      <td>76.570000</td>\n",
              "      <td>7340800.0</td>\n",
              "      <td>87</td>\n",
              "    </tr>\n",
              "  </tbody>\n",
              "</table>\n",
              "<p>108592 rows × 8 columns</p>\n",
              "</div>\n",
              "      <button class=\"colab-df-convert\" onclick=\"convertToInteractive('df-895c6d49-1ed9-4b9f-ba04-5f6684a09cda')\"\n",
              "              title=\"Convert this dataframe to an interactive table.\"\n",
              "              style=\"display:none;\">\n",
              "        \n",
              "  <svg xmlns=\"http://www.w3.org/2000/svg\" height=\"24px\"viewBox=\"0 0 24 24\"\n",
              "       width=\"24px\">\n",
              "    <path d=\"M0 0h24v24H0V0z\" fill=\"none\"/>\n",
              "    <path d=\"M18.56 5.44l.94 2.06.94-2.06 2.06-.94-2.06-.94-.94-2.06-.94 2.06-2.06.94zm-11 1L8.5 8.5l.94-2.06 2.06-.94-2.06-.94L8.5 2.5l-.94 2.06-2.06.94zm10 10l.94 2.06.94-2.06 2.06-.94-2.06-.94-.94-2.06-.94 2.06-2.06.94z\"/><path d=\"M17.41 7.96l-1.37-1.37c-.4-.4-.92-.59-1.43-.59-.52 0-1.04.2-1.43.59L10.3 9.45l-7.72 7.72c-.78.78-.78 2.05 0 2.83L4 21.41c.39.39.9.59 1.41.59.51 0 1.02-.2 1.41-.59l7.78-7.78 2.81-2.81c.8-.78.8-2.07 0-2.86zM5.41 20L4 18.59l7.72-7.72 1.47 1.35L5.41 20z\"/>\n",
              "  </svg>\n",
              "      </button>\n",
              "      \n",
              "  <style>\n",
              "    .colab-df-container {\n",
              "      display:flex;\n",
              "      flex-wrap:wrap;\n",
              "      gap: 12px;\n",
              "    }\n",
              "\n",
              "    .colab-df-convert {\n",
              "      background-color: #E8F0FE;\n",
              "      border: none;\n",
              "      border-radius: 50%;\n",
              "      cursor: pointer;\n",
              "      display: none;\n",
              "      fill: #1967D2;\n",
              "      height: 32px;\n",
              "      padding: 0 0 0 0;\n",
              "      width: 32px;\n",
              "    }\n",
              "\n",
              "    .colab-df-convert:hover {\n",
              "      background-color: #E2EBFA;\n",
              "      box-shadow: 0px 1px 2px rgba(60, 64, 67, 0.3), 0px 1px 3px 1px rgba(60, 64, 67, 0.15);\n",
              "      fill: #174EA6;\n",
              "    }\n",
              "\n",
              "    [theme=dark] .colab-df-convert {\n",
              "      background-color: #3B4455;\n",
              "      fill: #D2E3FC;\n",
              "    }\n",
              "\n",
              "    [theme=dark] .colab-df-convert:hover {\n",
              "      background-color: #434B5C;\n",
              "      box-shadow: 0px 1px 3px 1px rgba(0, 0, 0, 0.15);\n",
              "      filter: drop-shadow(0px 1px 2px rgba(0, 0, 0, 0.3));\n",
              "      fill: #FFFFFF;\n",
              "    }\n",
              "  </style>\n",
              "\n",
              "      <script>\n",
              "        const buttonEl =\n",
              "          document.querySelector('#df-895c6d49-1ed9-4b9f-ba04-5f6684a09cda button.colab-df-convert');\n",
              "        buttonEl.style.display =\n",
              "          google.colab.kernel.accessAllowed ? 'block' : 'none';\n",
              "\n",
              "        async function convertToInteractive(key) {\n",
              "          const element = document.querySelector('#df-895c6d49-1ed9-4b9f-ba04-5f6684a09cda');\n",
              "          const dataTable =\n",
              "            await google.colab.kernel.invokeFunction('convertToInteractive',\n",
              "                                                     [key], {});\n",
              "          if (!dataTable) return;\n",
              "\n",
              "          const docLinkHtml = 'Like what you see? Visit the ' +\n",
              "            '<a target=\"_blank\" href=https://colab.research.google.com/notebooks/data_table.ipynb>data table notebook</a>'\n",
              "            + ' to learn more about interactive tables.';\n",
              "          element.innerHTML = '';\n",
              "          dataTable['output_type'] = 'display_data';\n",
              "          await google.colab.output.renderOutput(dataTable, element);\n",
              "          const docLink = document.createElement('div');\n",
              "          docLink.innerHTML = docLinkHtml;\n",
              "          element.appendChild(docLink);\n",
              "        }\n",
              "      </script>\n",
              "    </div>\n",
              "  </div>\n",
              "  "
            ]
          },
          "metadata": {},
          "execution_count": 6
        }
      ]
    },
    {
      "cell_type": "code",
      "source": [],
      "metadata": {
        "id": "oUOOziTkGLmj"
      },
      "execution_count": null,
      "outputs": []
    },
    {
      "cell_type": "code",
      "source": [],
      "metadata": {
        "id": "Prnwvz8mGLj9"
      },
      "execution_count": null,
      "outputs": []
    },
    {
      "cell_type": "code",
      "source": [],
      "metadata": {
        "id": "9STH2nsBGLZL"
      },
      "execution_count": null,
      "outputs": []
    },
    {
      "cell_type": "code",
      "execution_count": 7,
      "metadata": {
        "colab": {
          "base_uri": "https://localhost:8080/"
        },
        "id": "42w3Mplr9SgL",
        "outputId": "8c57695d-6d43-41ce-cba6-e2c44b704994"
      },
      "outputs": [
        {
          "output_type": "stream",
          "name": "stdout",
          "text": [
            "         Date       Open       High        Low      Close  Adj Close    Volume\n",
            "0  2012-09-04  95.108574  96.448570  94.928574  96.424286  87.121140  91973000\n",
            "1  2012-09-05  96.510002  96.621429  95.657143  95.747147  86.509338  84093800\n",
            "2  2012-09-06  96.167145  96.898575  95.828575  96.610001  87.288956  97799100\n"
          ]
        }
      ],
      "source": [
        "import pandas as pd\n",
        "\n",
        "def get_stock_data(stock):\n",
        "    # URL of the raw CSV file on GitHub\n",
        "    csv_url = 'https://raw.githubusercontent.com/yumoxu/stocknet-dataset/master/price/raw/' + stock + '.csv'\n",
        "\n",
        "    # Read the CSV data into a pandas DataFrame\n",
        "    df = pd.read_csv(csv_url)\n",
        "\n",
        "    # Return the DataFrame\n",
        "    return df\n",
        "\n",
        "# Example usage\n",
        "stock = 'AAPL'\n",
        "data = get_stock_data(stock)\n",
        "print(data.head(3))\n"
      ]
    },
    {
      "cell_type": "code",
      "source": [],
      "metadata": {
        "id": "SBeujYO7GKXA"
      },
      "execution_count": null,
      "outputs": []
    },
    {
      "cell_type": "code",
      "source": [
        "import pandas as pd\n",
        "\n",
        "def split_date(stock):\n",
        "    # URL of the raw CSV file on GitHub\n",
        "    csv_url = 'https://raw.githubusercontent.com/yumoxu/stocknet-dataset/master/price/raw/' + stock + '.csv'\n",
        "\n",
        "    # Read the CSV data into a pandas DataFrame\n",
        "    df = pd.read_csv(csv_url)\n",
        "\n",
        "    # Split the 'Date' column into separate columns for month, day, and year\n",
        "    df[['Year', 'Month', 'Day']] = df['Date'].str.split('-', expand=True)\n",
        "\n",
        "    # Return the modified DataFrame\n",
        "    return df\n",
        "\n",
        "# Example usage\n",
        "stock = 'AAPL'\n",
        "data = split_date(stock)\n",
        "data.head(5)"
      ],
      "metadata": {
        "colab": {
          "base_uri": "https://localhost:8080/",
          "height": 206
        },
        "id": "vTa5hqpH9S6Y",
        "outputId": "5284dc87-22e1-4df4-be4b-179c17b1bcb7"
      },
      "execution_count": 13,
      "outputs": [
        {
          "output_type": "execute_result",
          "data": {
            "text/plain": [
              "         Date       Open       High        Low      Close  Adj Close  \\\n",
              "0  2012-09-04  95.108574  96.448570  94.928574  96.424286  87.121140   \n",
              "1  2012-09-05  96.510002  96.621429  95.657143  95.747147  86.509338   \n",
              "2  2012-09-06  96.167145  96.898575  95.828575  96.610001  87.288956   \n",
              "3  2012-09-07  96.864288  97.497147  96.538574  97.205711  87.827171   \n",
              "4  2012-09-10  97.207146  97.612854  94.585716  94.677139  85.542564   \n",
              "\n",
              "      Volume  Year Month Day  \n",
              "0   91973000  2012    09  04  \n",
              "1   84093800  2012    09  05  \n",
              "2   97799100  2012    09  06  \n",
              "3   82416600  2012    09  07  \n",
              "4  121999500  2012    09  10  "
            ],
            "text/html": [
              "\n",
              "  <div id=\"df-6e3e58f9-5de8-4eb2-9212-eb494de349fc\">\n",
              "    <div class=\"colab-df-container\">\n",
              "      <div>\n",
              "<style scoped>\n",
              "    .dataframe tbody tr th:only-of-type {\n",
              "        vertical-align: middle;\n",
              "    }\n",
              "\n",
              "    .dataframe tbody tr th {\n",
              "        vertical-align: top;\n",
              "    }\n",
              "\n",
              "    .dataframe thead th {\n",
              "        text-align: right;\n",
              "    }\n",
              "</style>\n",
              "<table border=\"1\" class=\"dataframe\">\n",
              "  <thead>\n",
              "    <tr style=\"text-align: right;\">\n",
              "      <th></th>\n",
              "      <th>Date</th>\n",
              "      <th>Open</th>\n",
              "      <th>High</th>\n",
              "      <th>Low</th>\n",
              "      <th>Close</th>\n",
              "      <th>Adj Close</th>\n",
              "      <th>Volume</th>\n",
              "      <th>Year</th>\n",
              "      <th>Month</th>\n",
              "      <th>Day</th>\n",
              "    </tr>\n",
              "  </thead>\n",
              "  <tbody>\n",
              "    <tr>\n",
              "      <th>0</th>\n",
              "      <td>2012-09-04</td>\n",
              "      <td>95.108574</td>\n",
              "      <td>96.448570</td>\n",
              "      <td>94.928574</td>\n",
              "      <td>96.424286</td>\n",
              "      <td>87.121140</td>\n",
              "      <td>91973000</td>\n",
              "      <td>2012</td>\n",
              "      <td>09</td>\n",
              "      <td>04</td>\n",
              "    </tr>\n",
              "    <tr>\n",
              "      <th>1</th>\n",
              "      <td>2012-09-05</td>\n",
              "      <td>96.510002</td>\n",
              "      <td>96.621429</td>\n",
              "      <td>95.657143</td>\n",
              "      <td>95.747147</td>\n",
              "      <td>86.509338</td>\n",
              "      <td>84093800</td>\n",
              "      <td>2012</td>\n",
              "      <td>09</td>\n",
              "      <td>05</td>\n",
              "    </tr>\n",
              "    <tr>\n",
              "      <th>2</th>\n",
              "      <td>2012-09-06</td>\n",
              "      <td>96.167145</td>\n",
              "      <td>96.898575</td>\n",
              "      <td>95.828575</td>\n",
              "      <td>96.610001</td>\n",
              "      <td>87.288956</td>\n",
              "      <td>97799100</td>\n",
              "      <td>2012</td>\n",
              "      <td>09</td>\n",
              "      <td>06</td>\n",
              "    </tr>\n",
              "    <tr>\n",
              "      <th>3</th>\n",
              "      <td>2012-09-07</td>\n",
              "      <td>96.864288</td>\n",
              "      <td>97.497147</td>\n",
              "      <td>96.538574</td>\n",
              "      <td>97.205711</td>\n",
              "      <td>87.827171</td>\n",
              "      <td>82416600</td>\n",
              "      <td>2012</td>\n",
              "      <td>09</td>\n",
              "      <td>07</td>\n",
              "    </tr>\n",
              "    <tr>\n",
              "      <th>4</th>\n",
              "      <td>2012-09-10</td>\n",
              "      <td>97.207146</td>\n",
              "      <td>97.612854</td>\n",
              "      <td>94.585716</td>\n",
              "      <td>94.677139</td>\n",
              "      <td>85.542564</td>\n",
              "      <td>121999500</td>\n",
              "      <td>2012</td>\n",
              "      <td>09</td>\n",
              "      <td>10</td>\n",
              "    </tr>\n",
              "  </tbody>\n",
              "</table>\n",
              "</div>\n",
              "      <button class=\"colab-df-convert\" onclick=\"convertToInteractive('df-6e3e58f9-5de8-4eb2-9212-eb494de349fc')\"\n",
              "              title=\"Convert this dataframe to an interactive table.\"\n",
              "              style=\"display:none;\">\n",
              "        \n",
              "  <svg xmlns=\"http://www.w3.org/2000/svg\" height=\"24px\"viewBox=\"0 0 24 24\"\n",
              "       width=\"24px\">\n",
              "    <path d=\"M0 0h24v24H0V0z\" fill=\"none\"/>\n",
              "    <path d=\"M18.56 5.44l.94 2.06.94-2.06 2.06-.94-2.06-.94-.94-2.06-.94 2.06-2.06.94zm-11 1L8.5 8.5l.94-2.06 2.06-.94-2.06-.94L8.5 2.5l-.94 2.06-2.06.94zm10 10l.94 2.06.94-2.06 2.06-.94-2.06-.94-.94-2.06-.94 2.06-2.06.94z\"/><path d=\"M17.41 7.96l-1.37-1.37c-.4-.4-.92-.59-1.43-.59-.52 0-1.04.2-1.43.59L10.3 9.45l-7.72 7.72c-.78.78-.78 2.05 0 2.83L4 21.41c.39.39.9.59 1.41.59.51 0 1.02-.2 1.41-.59l7.78-7.78 2.81-2.81c.8-.78.8-2.07 0-2.86zM5.41 20L4 18.59l7.72-7.72 1.47 1.35L5.41 20z\"/>\n",
              "  </svg>\n",
              "      </button>\n",
              "      \n",
              "  <style>\n",
              "    .colab-df-container {\n",
              "      display:flex;\n",
              "      flex-wrap:wrap;\n",
              "      gap: 12px;\n",
              "    }\n",
              "\n",
              "    .colab-df-convert {\n",
              "      background-color: #E8F0FE;\n",
              "      border: none;\n",
              "      border-radius: 50%;\n",
              "      cursor: pointer;\n",
              "      display: none;\n",
              "      fill: #1967D2;\n",
              "      height: 32px;\n",
              "      padding: 0 0 0 0;\n",
              "      width: 32px;\n",
              "    }\n",
              "\n",
              "    .colab-df-convert:hover {\n",
              "      background-color: #E2EBFA;\n",
              "      box-shadow: 0px 1px 2px rgba(60, 64, 67, 0.3), 0px 1px 3px 1px rgba(60, 64, 67, 0.15);\n",
              "      fill: #174EA6;\n",
              "    }\n",
              "\n",
              "    [theme=dark] .colab-df-convert {\n",
              "      background-color: #3B4455;\n",
              "      fill: #D2E3FC;\n",
              "    }\n",
              "\n",
              "    [theme=dark] .colab-df-convert:hover {\n",
              "      background-color: #434B5C;\n",
              "      box-shadow: 0px 1px 3px 1px rgba(0, 0, 0, 0.15);\n",
              "      filter: drop-shadow(0px 1px 2px rgba(0, 0, 0, 0.3));\n",
              "      fill: #FFFFFF;\n",
              "    }\n",
              "  </style>\n",
              "\n",
              "      <script>\n",
              "        const buttonEl =\n",
              "          document.querySelector('#df-6e3e58f9-5de8-4eb2-9212-eb494de349fc button.colab-df-convert');\n",
              "        buttonEl.style.display =\n",
              "          google.colab.kernel.accessAllowed ? 'block' : 'none';\n",
              "\n",
              "        async function convertToInteractive(key) {\n",
              "          const element = document.querySelector('#df-6e3e58f9-5de8-4eb2-9212-eb494de349fc');\n",
              "          const dataTable =\n",
              "            await google.colab.kernel.invokeFunction('convertToInteractive',\n",
              "                                                     [key], {});\n",
              "          if (!dataTable) return;\n",
              "\n",
              "          const docLinkHtml = 'Like what you see? Visit the ' +\n",
              "            '<a target=\"_blank\" href=https://colab.research.google.com/notebooks/data_table.ipynb>data table notebook</a>'\n",
              "            + ' to learn more about interactive tables.';\n",
              "          element.innerHTML = '';\n",
              "          dataTable['output_type'] = 'display_data';\n",
              "          await google.colab.output.renderOutput(dataTable, element);\n",
              "          const docLink = document.createElement('div');\n",
              "          docLink.innerHTML = docLinkHtml;\n",
              "          element.appendChild(docLink);\n",
              "        }\n",
              "      </script>\n",
              "    </div>\n",
              "  </div>\n",
              "  "
            ]
          },
          "metadata": {},
          "execution_count": 13
        }
      ]
    },
    {
      "cell_type": "code",
      "source": [
        "import pandas as pd\n",
        "\n",
        "def add_stock_change(data):\n",
        "\n",
        "    # Calculate the change column\n",
        "    data['Change'] = data['Open'] - data['Close'].shift(1)\n",
        "\n",
        "    # Drop rows with NaN values\n",
        "    data = data.dropna()\n",
        "\n",
        "    # Reset the index of the DataFrame\n",
        "    data = data.reset_index(drop=True)\n",
        "\n",
        "    data['Movement'] = data['Change'].apply(lambda x: 'UP' if x > 0 else 'DOWN')\n",
        "\n",
        "    return data\n",
        "  # Replace 'your_file.csv' with the path to your file\n",
        "stock_data = add_stock_change(data)\n",
        "\n",
        "# Display the updated DataFrame\n",
        "stock_data.head(5)"
      ],
      "metadata": {
        "colab": {
          "base_uri": "https://localhost:8080/",
          "height": 206
        },
        "id": "H2SLEq1l9S97",
        "outputId": "7aa16e00-266f-4acf-c832-6c342183dc93"
      },
      "execution_count": 24,
      "outputs": [
        {
          "output_type": "execute_result",
          "data": {
            "text/plain": [
              "         Date       Open       High        Low      Close  Adj Close  \\\n",
              "0  2012-09-05  96.510002  96.621429  95.657143  95.747147  86.509338   \n",
              "1  2012-09-06  96.167145  96.898575  95.828575  96.610001  87.288956   \n",
              "2  2012-09-07  96.864288  97.497147  96.538574  97.205711  87.827171   \n",
              "3  2012-09-10  97.207146  97.612854  94.585716  94.677139  85.542564   \n",
              "4  2012-09-11  95.015717  95.728569  93.785713  94.370003  85.265068   \n",
              "\n",
              "      Volume  Year Month Day    Change Movement  \n",
              "0   84093800  2012    09  05  0.085716       UP  \n",
              "1   97799100  2012    09  06  0.419998       UP  \n",
              "2   82416600  2012    09  07  0.254287       UP  \n",
              "3  121999500  2012    09  10  0.001435       UP  \n",
              "4  125995800  2012    09  11  0.338578       UP  "
            ],
            "text/html": [
              "\n",
              "  <div id=\"df-130fdcdf-b671-487a-9f43-49f47b83a566\">\n",
              "    <div class=\"colab-df-container\">\n",
              "      <div>\n",
              "<style scoped>\n",
              "    .dataframe tbody tr th:only-of-type {\n",
              "        vertical-align: middle;\n",
              "    }\n",
              "\n",
              "    .dataframe tbody tr th {\n",
              "        vertical-align: top;\n",
              "    }\n",
              "\n",
              "    .dataframe thead th {\n",
              "        text-align: right;\n",
              "    }\n",
              "</style>\n",
              "<table border=\"1\" class=\"dataframe\">\n",
              "  <thead>\n",
              "    <tr style=\"text-align: right;\">\n",
              "      <th></th>\n",
              "      <th>Date</th>\n",
              "      <th>Open</th>\n",
              "      <th>High</th>\n",
              "      <th>Low</th>\n",
              "      <th>Close</th>\n",
              "      <th>Adj Close</th>\n",
              "      <th>Volume</th>\n",
              "      <th>Year</th>\n",
              "      <th>Month</th>\n",
              "      <th>Day</th>\n",
              "      <th>Change</th>\n",
              "      <th>Movement</th>\n",
              "    </tr>\n",
              "  </thead>\n",
              "  <tbody>\n",
              "    <tr>\n",
              "      <th>0</th>\n",
              "      <td>2012-09-05</td>\n",
              "      <td>96.510002</td>\n",
              "      <td>96.621429</td>\n",
              "      <td>95.657143</td>\n",
              "      <td>95.747147</td>\n",
              "      <td>86.509338</td>\n",
              "      <td>84093800</td>\n",
              "      <td>2012</td>\n",
              "      <td>09</td>\n",
              "      <td>05</td>\n",
              "      <td>0.085716</td>\n",
              "      <td>UP</td>\n",
              "    </tr>\n",
              "    <tr>\n",
              "      <th>1</th>\n",
              "      <td>2012-09-06</td>\n",
              "      <td>96.167145</td>\n",
              "      <td>96.898575</td>\n",
              "      <td>95.828575</td>\n",
              "      <td>96.610001</td>\n",
              "      <td>87.288956</td>\n",
              "      <td>97799100</td>\n",
              "      <td>2012</td>\n",
              "      <td>09</td>\n",
              "      <td>06</td>\n",
              "      <td>0.419998</td>\n",
              "      <td>UP</td>\n",
              "    </tr>\n",
              "    <tr>\n",
              "      <th>2</th>\n",
              "      <td>2012-09-07</td>\n",
              "      <td>96.864288</td>\n",
              "      <td>97.497147</td>\n",
              "      <td>96.538574</td>\n",
              "      <td>97.205711</td>\n",
              "      <td>87.827171</td>\n",
              "      <td>82416600</td>\n",
              "      <td>2012</td>\n",
              "      <td>09</td>\n",
              "      <td>07</td>\n",
              "      <td>0.254287</td>\n",
              "      <td>UP</td>\n",
              "    </tr>\n",
              "    <tr>\n",
              "      <th>3</th>\n",
              "      <td>2012-09-10</td>\n",
              "      <td>97.207146</td>\n",
              "      <td>97.612854</td>\n",
              "      <td>94.585716</td>\n",
              "      <td>94.677139</td>\n",
              "      <td>85.542564</td>\n",
              "      <td>121999500</td>\n",
              "      <td>2012</td>\n",
              "      <td>09</td>\n",
              "      <td>10</td>\n",
              "      <td>0.001435</td>\n",
              "      <td>UP</td>\n",
              "    </tr>\n",
              "    <tr>\n",
              "      <th>4</th>\n",
              "      <td>2012-09-11</td>\n",
              "      <td>95.015717</td>\n",
              "      <td>95.728569</td>\n",
              "      <td>93.785713</td>\n",
              "      <td>94.370003</td>\n",
              "      <td>85.265068</td>\n",
              "      <td>125995800</td>\n",
              "      <td>2012</td>\n",
              "      <td>09</td>\n",
              "      <td>11</td>\n",
              "      <td>0.338578</td>\n",
              "      <td>UP</td>\n",
              "    </tr>\n",
              "  </tbody>\n",
              "</table>\n",
              "</div>\n",
              "      <button class=\"colab-df-convert\" onclick=\"convertToInteractive('df-130fdcdf-b671-487a-9f43-49f47b83a566')\"\n",
              "              title=\"Convert this dataframe to an interactive table.\"\n",
              "              style=\"display:none;\">\n",
              "        \n",
              "  <svg xmlns=\"http://www.w3.org/2000/svg\" height=\"24px\"viewBox=\"0 0 24 24\"\n",
              "       width=\"24px\">\n",
              "    <path d=\"M0 0h24v24H0V0z\" fill=\"none\"/>\n",
              "    <path d=\"M18.56 5.44l.94 2.06.94-2.06 2.06-.94-2.06-.94-.94-2.06-.94 2.06-2.06.94zm-11 1L8.5 8.5l.94-2.06 2.06-.94-2.06-.94L8.5 2.5l-.94 2.06-2.06.94zm10 10l.94 2.06.94-2.06 2.06-.94-2.06-.94-.94-2.06-.94 2.06-2.06.94z\"/><path d=\"M17.41 7.96l-1.37-1.37c-.4-.4-.92-.59-1.43-.59-.52 0-1.04.2-1.43.59L10.3 9.45l-7.72 7.72c-.78.78-.78 2.05 0 2.83L4 21.41c.39.39.9.59 1.41.59.51 0 1.02-.2 1.41-.59l7.78-7.78 2.81-2.81c.8-.78.8-2.07 0-2.86zM5.41 20L4 18.59l7.72-7.72 1.47 1.35L5.41 20z\"/>\n",
              "  </svg>\n",
              "      </button>\n",
              "      \n",
              "  <style>\n",
              "    .colab-df-container {\n",
              "      display:flex;\n",
              "      flex-wrap:wrap;\n",
              "      gap: 12px;\n",
              "    }\n",
              "\n",
              "    .colab-df-convert {\n",
              "      background-color: #E8F0FE;\n",
              "      border: none;\n",
              "      border-radius: 50%;\n",
              "      cursor: pointer;\n",
              "      display: none;\n",
              "      fill: #1967D2;\n",
              "      height: 32px;\n",
              "      padding: 0 0 0 0;\n",
              "      width: 32px;\n",
              "    }\n",
              "\n",
              "    .colab-df-convert:hover {\n",
              "      background-color: #E2EBFA;\n",
              "      box-shadow: 0px 1px 2px rgba(60, 64, 67, 0.3), 0px 1px 3px 1px rgba(60, 64, 67, 0.15);\n",
              "      fill: #174EA6;\n",
              "    }\n",
              "\n",
              "    [theme=dark] .colab-df-convert {\n",
              "      background-color: #3B4455;\n",
              "      fill: #D2E3FC;\n",
              "    }\n",
              "\n",
              "    [theme=dark] .colab-df-convert:hover {\n",
              "      background-color: #434B5C;\n",
              "      box-shadow: 0px 1px 3px 1px rgba(0, 0, 0, 0.15);\n",
              "      filter: drop-shadow(0px 1px 2px rgba(0, 0, 0, 0.3));\n",
              "      fill: #FFFFFF;\n",
              "    }\n",
              "  </style>\n",
              "\n",
              "      <script>\n",
              "        const buttonEl =\n",
              "          document.querySelector('#df-130fdcdf-b671-487a-9f43-49f47b83a566 button.colab-df-convert');\n",
              "        buttonEl.style.display =\n",
              "          google.colab.kernel.accessAllowed ? 'block' : 'none';\n",
              "\n",
              "        async function convertToInteractive(key) {\n",
              "          const element = document.querySelector('#df-130fdcdf-b671-487a-9f43-49f47b83a566');\n",
              "          const dataTable =\n",
              "            await google.colab.kernel.invokeFunction('convertToInteractive',\n",
              "                                                     [key], {});\n",
              "          if (!dataTable) return;\n",
              "\n",
              "          const docLinkHtml = 'Like what you see? Visit the ' +\n",
              "            '<a target=\"_blank\" href=https://colab.research.google.com/notebooks/data_table.ipynb>data table notebook</a>'\n",
              "            + ' to learn more about interactive tables.';\n",
              "          element.innerHTML = '';\n",
              "          dataTable['output_type'] = 'display_data';\n",
              "          await google.colab.output.renderOutput(dataTable, element);\n",
              "          const docLink = document.createElement('div');\n",
              "          docLink.innerHTML = docLinkHtml;\n",
              "          element.appendChild(docLink);\n",
              "        }\n",
              "      </script>\n",
              "    </div>\n",
              "  </div>\n",
              "  "
            ]
          },
          "metadata": {},
          "execution_count": 24
        }
      ]
    },
    {
      "cell_type": "code",
      "source": [
        "import pandas as pd\n",
        "\n",
        "def create_XY(data):\n",
        "    # Create X and Y\n",
        "    X = data.iloc[1:].drop(columns=['Date','Movement']).values\n",
        "    Y = data.iloc[1:]['Open'].shift(-1).dropna().values\n",
        "\n",
        "    return X[1:-1], Y[1:]\n",
        "\n",
        "X, Y = create_XY(stock_data)\n"
      ],
      "metadata": {
        "id": "3LZym2CU9Xvz"
      },
      "execution_count": 9,
      "outputs": []
    },
    {
      "cell_type": "code",
      "source": [
        "print(Y[0],X[0])"
      ],
      "metadata": {
        "id": "H3uryIZgC-5x",
        "colab": {
          "base_uri": "https://localhost:8080/"
        },
        "outputId": "4cda9b92-c483-4099-ce83-e504e8a00f43"
      },
      "execution_count": 10,
      "outputs": [
        {
          "output_type": "stream",
          "name": "stdout",
          "text": [
            "97.207146 [9.6864288e+01 9.7497147e+01 9.6538574e+01 9.7205711e+01 8.7827171e+01\n",
            " 8.2416600e+07 2.5428700e-01]\n"
          ]
        }
      ]
    },
    {
      "cell_type": "code",
      "source": [
        "def convert_XY(stock_data):\n",
        "    stock_data['Movement'] = stock_data['Movement'].apply(lambda x: 1 if x == 'UP' else 0)\n",
        "    Y = stock_data.iloc[1:]['Movement'].shift(1).values\n",
        "    X = stock_data.iloc[1:].drop(['Date', 'Movement'], axis=1).values\n",
        "    return X[1:], Y[1:]\n",
        "\n",
        "X,Y = convert_XY(stock_data)\n"
      ],
      "metadata": {
        "id": "Am7UD-w9C-8O"
      },
      "execution_count": 11,
      "outputs": []
    },
    {
      "cell_type": "code",
      "source": [
        "print(Y[9],X[9])"
      ],
      "metadata": {
        "id": "KR5dA0fXC-_1",
        "colab": {
          "base_uri": "https://localhost:8080/"
        },
        "outputId": "6cf1b906-c275-4134-fcf2-cf831c8374bc"
      },
      "execution_count": 14,
      "outputs": [
        {
          "output_type": "stream",
          "name": "stdout",
          "text": [
            "0.0 [ 9.98799970e+01  1.00008568e+02  9.90885700e+01  9.98142850e+01\n",
            "  9.01840900e+01  8.41421000e+07 -4.20006000e-01]\n"
          ]
        }
      ]
    },
    {
      "cell_type": "code",
      "source": [
        "import numpy as np\n",
        "\n",
        "def Five_Day_XY(stock_data):\n",
        "    stock_data['Movement'] = stock_data['Movement'].apply(lambda x: 1 if x == 'UP' else 0)\n",
        "    df = stock_data\n",
        "    X = []\n",
        "    Y = []\n",
        "    for _, row in df.iloc[:, 5:].iterrows():\n",
        "        movement_value = row[\"Movement\"]  # Assuming \"Movement\" is the column name\n",
        "        Y.append(movement_value)\n",
        "\n",
        "    X = []  # List to store the previous five rows\n",
        "    rows_to_add = []\n",
        "    for _, row in df.iloc[:, 5:].iterrows():\n",
        "        rows_to_add.append(row.tolist())\n",
        "        if len(rows_to_add) > 5:\n",
        "            X.append(rows_to_add[-6:-1])\n",
        "\n",
        "    X = np.array(X)\n",
        "    flattened_X = np.reshape(X, (X.shape[0], -1))\n",
        "\n",
        "    return flattened_X,np.array(Y)\n",
        "\n",
        "X,Y = Five_Day_XY(stock_data)"
      ],
      "metadata": {
        "id": "OtxtcOvj9XzX"
      },
      "execution_count": 41,
      "outputs": []
    },
    {
      "cell_type": "code",
      "source": [
        "np.shape(X)"
      ],
      "metadata": {
        "id": "Ht20RgkPFuZS",
        "colab": {
          "base_uri": "https://localhost:8080/"
        },
        "outputId": "eb53c1fc-9623-43e3-9f7a-8a15009774ab"
      },
      "execution_count": 42,
      "outputs": [
        {
          "output_type": "execute_result",
          "data": {
            "text/plain": [
              "(1252, 35)"
            ]
          },
          "metadata": {},
          "execution_count": 42
        }
      ]
    },
    {
      "cell_type": "code",
      "source": [
        "import numpy as np\n",
        "\n",
        "def Five_Day_XY_Flattened(stock_data):\n",
        "    stock_data['Movement'] = stock_data['Movement'].apply(lambda x: 1 if x == 'UP' else 0)\n",
        "    df = stock_data\n",
        "    X = []\n",
        "    Y = []\n",
        "    for _, row in df.iloc[:, 5:].iterrows():\n",
        "        movement_value = row[\"Movement\"]  # Assuming \"Movement\" is the column name\n",
        "        Y.append(movement_value)\n",
        "\n",
        "    X = []  # List to store the previous five rows\n",
        "    rows_to_add = []\n",
        "    for _, row in df.iloc[:, 5:].iterrows():\n",
        "        rows_to_add.append(row.tolist())\n",
        "        if len(rows_to_add) > 5:\n",
        "            X.append(rows_to_add[-6:-1])\n",
        "\n",
        "    return np.array(X),np.array(Y)\n",
        "\n",
        "X,Y = Five_Day_XY(stock_data)"
      ],
      "metadata": {
        "id": "iNB7lwXvEinD"
      },
      "execution_count": null,
      "outputs": []
    },
    {
      "cell_type": "code",
      "source": [
        "np.shape(X)"
      ],
      "metadata": {
        "colab": {
          "base_uri": "https://localhost:8080/"
        },
        "id": "a7zfs_SREiqm",
        "outputId": "11806418-c7a9-402b-bb47-974b5d6bba6b"
      },
      "execution_count": 43,
      "outputs": [
        {
          "output_type": "execute_result",
          "data": {
            "text/plain": [
              "(1252, 35)"
            ]
          },
          "metadata": {},
          "execution_count": 43
        }
      ]
    },
    {
      "cell_type": "code",
      "source": [],
      "metadata": {
        "id": "KoQ4yOAgFucr"
      },
      "execution_count": null,
      "outputs": []
    }
  ]
}